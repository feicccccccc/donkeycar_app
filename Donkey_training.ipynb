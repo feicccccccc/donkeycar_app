{
  "nbformat": 4,
  "nbformat_minor": 0,
  "metadata": {
    "colab": {
      "name": "Donkey_training.ipynb",
      "provenance": [],
      "collapsed_sections": [],
      "machine_shape": "hm",
      "authorship_tag": "ABX9TyOn6ff8VXgoKHXhpFGpwdtZ",
      "include_colab_link": true
    },
    "kernelspec": {
      "name": "python3",
      "display_name": "Python 3"
    },
    "accelerator": "GPU"
  },
  "cells": [
    {
      "cell_type": "markdown",
      "metadata": {
        "id": "view-in-github",
        "colab_type": "text"
      },
      "source": [
        "<a href=\"https://colab.research.google.com/github/feicccccccc/donkeycar_app/blob/rnn_imu_testing/Donkey_training.ipynb\" target=\"_parent\"><img src=\"https://colab.research.google.com/assets/colab-badge.svg\" alt=\"Open In Colab\"/></a>"
      ]
    },
    {
      "cell_type": "code",
      "metadata": {
        "id": "0b6Qf5yo6Y_L",
        "colab_type": "code",
        "outputId": "0cf7a997-2a39-4e62-a326-f585f92f686e",
        "colab": {
          "base_uri": "https://localhost:8080/",
          "height": 819
        }
      },
      "source": [
        "%tensorflow_version 1.x\n",
        "import tensorflow as tf\n",
        "print(tf.__version__)\n",
        "!pip install tensorflow-gpu==1.14.0\n",
        "\"\"\"from tensorflow.keras.backend import set_session\n",
        "config = tf.ConfigProto()\n",
        "config.gpu_options.per_process_gpu_memory_fraction = 0.1\n",
        "\n",
        "config.gpu_options.visible_device_list = '0'\n",
        "\n",
        "set_session(tf.Session(config=config))\"\"\""
      ],
      "execution_count": 0,
      "outputs": [
        {
          "output_type": "stream",
          "text": [
            "/usr/local/lib/python3.6/dist-packages/tensorflow/python/framework/dtypes.py:516: FutureWarning: Passing (type, 1) or '1type' as a synonym of type is deprecated; in a future version of numpy, it will be understood as (type, (1,)) / '(1,)type'.\n",
            "  _np_qint8 = np.dtype([(\"qint8\", np.int8, 1)])\n",
            "/usr/local/lib/python3.6/dist-packages/tensorflow/python/framework/dtypes.py:517: FutureWarning: Passing (type, 1) or '1type' as a synonym of type is deprecated; in a future version of numpy, it will be understood as (type, (1,)) / '(1,)type'.\n",
            "  _np_quint8 = np.dtype([(\"quint8\", np.uint8, 1)])\n",
            "/usr/local/lib/python3.6/dist-packages/tensorflow/python/framework/dtypes.py:518: FutureWarning: Passing (type, 1) or '1type' as a synonym of type is deprecated; in a future version of numpy, it will be understood as (type, (1,)) / '(1,)type'.\n",
            "  _np_qint16 = np.dtype([(\"qint16\", np.int16, 1)])\n",
            "/usr/local/lib/python3.6/dist-packages/tensorflow/python/framework/dtypes.py:519: FutureWarning: Passing (type, 1) or '1type' as a synonym of type is deprecated; in a future version of numpy, it will be understood as (type, (1,)) / '(1,)type'.\n",
            "  _np_quint16 = np.dtype([(\"quint16\", np.uint16, 1)])\n",
            "/usr/local/lib/python3.6/dist-packages/tensorflow/python/framework/dtypes.py:520: FutureWarning: Passing (type, 1) or '1type' as a synonym of type is deprecated; in a future version of numpy, it will be understood as (type, (1,)) / '(1,)type'.\n",
            "  _np_qint32 = np.dtype([(\"qint32\", np.int32, 1)])\n",
            "/usr/local/lib/python3.6/dist-packages/tensorflow/python/framework/dtypes.py:525: FutureWarning: Passing (type, 1) or '1type' as a synonym of type is deprecated; in a future version of numpy, it will be understood as (type, (1,)) / '(1,)type'.\n",
            "  np_resource = np.dtype([(\"resource\", np.ubyte, 1)])\n",
            "/usr/local/lib/python3.6/dist-packages/tensorboard/compat/tensorflow_stub/dtypes.py:541: FutureWarning: Passing (type, 1) or '1type' as a synonym of type is deprecated; in a future version of numpy, it will be understood as (type, (1,)) / '(1,)type'.\n",
            "  _np_qint8 = np.dtype([(\"qint8\", np.int8, 1)])\n",
            "/usr/local/lib/python3.6/dist-packages/tensorboard/compat/tensorflow_stub/dtypes.py:542: FutureWarning: Passing (type, 1) or '1type' as a synonym of type is deprecated; in a future version of numpy, it will be understood as (type, (1,)) / '(1,)type'.\n",
            "  _np_quint8 = np.dtype([(\"quint8\", np.uint8, 1)])\n",
            "/usr/local/lib/python3.6/dist-packages/tensorboard/compat/tensorflow_stub/dtypes.py:543: FutureWarning: Passing (type, 1) or '1type' as a synonym of type is deprecated; in a future version of numpy, it will be understood as (type, (1,)) / '(1,)type'.\n",
            "  _np_qint16 = np.dtype([(\"qint16\", np.int16, 1)])\n",
            "/usr/local/lib/python3.6/dist-packages/tensorboard/compat/tensorflow_stub/dtypes.py:544: FutureWarning: Passing (type, 1) or '1type' as a synonym of type is deprecated; in a future version of numpy, it will be understood as (type, (1,)) / '(1,)type'.\n",
            "  _np_quint16 = np.dtype([(\"quint16\", np.uint16, 1)])\n",
            "/usr/local/lib/python3.6/dist-packages/tensorboard/compat/tensorflow_stub/dtypes.py:545: FutureWarning: Passing (type, 1) or '1type' as a synonym of type is deprecated; in a future version of numpy, it will be understood as (type, (1,)) / '(1,)type'.\n",
            "  _np_qint32 = np.dtype([(\"qint32\", np.int32, 1)])\n",
            "/usr/local/lib/python3.6/dist-packages/tensorboard/compat/tensorflow_stub/dtypes.py:550: FutureWarning: Passing (type, 1) or '1type' as a synonym of type is deprecated; in a future version of numpy, it will be understood as (type, (1,)) / '(1,)type'.\n",
            "  np_resource = np.dtype([(\"resource\", np.ubyte, 1)])\n"
          ],
          "name": "stderr"
        },
        {
          "output_type": "stream",
          "text": [
            "1.14.0\n",
            "Requirement already satisfied: tensorflow-gpu==1.14.0 in /usr/local/lib/python3.6/dist-packages (1.14.0)\n",
            "Requirement already satisfied: absl-py>=0.7.0 in /usr/local/lib/python3.6/dist-packages (from tensorflow-gpu==1.14.0) (0.9.0)\n",
            "Requirement already satisfied: tensorboard<1.15.0,>=1.14.0 in /usr/local/lib/python3.6/dist-packages (from tensorflow-gpu==1.14.0) (1.14.0)\n",
            "Requirement already satisfied: protobuf>=3.6.1 in /usr/local/lib/python3.6/dist-packages (from tensorflow-gpu==1.14.0) (3.10.0)\n",
            "Requirement already satisfied: gast>=0.2.0 in /usr/local/lib/python3.6/dist-packages (from tensorflow-gpu==1.14.0) (0.2.2)\n",
            "Requirement already satisfied: astor>=0.6.0 in /usr/local/lib/python3.6/dist-packages (from tensorflow-gpu==1.14.0) (0.8.1)\n",
            "Requirement already satisfied: six>=1.10.0 in /usr/local/lib/python3.6/dist-packages (from tensorflow-gpu==1.14.0) (1.12.0)\n",
            "Requirement already satisfied: keras-preprocessing>=1.0.5 in /usr/local/lib/python3.6/dist-packages (from tensorflow-gpu==1.14.0) (1.1.0)\n",
            "Requirement already satisfied: wrapt>=1.11.1 in /usr/local/lib/python3.6/dist-packages (from tensorflow-gpu==1.14.0) (1.11.2)\n",
            "Requirement already satisfied: tensorflow-estimator<1.15.0rc0,>=1.14.0rc0 in /usr/local/lib/python3.6/dist-packages (from tensorflow-gpu==1.14.0) (1.14.0)\n",
            "Requirement already satisfied: termcolor>=1.1.0 in /usr/local/lib/python3.6/dist-packages (from tensorflow-gpu==1.14.0) (1.1.0)\n",
            "Requirement already satisfied: grpcio>=1.8.6 in /usr/local/lib/python3.6/dist-packages (from tensorflow-gpu==1.14.0) (1.15.0)\n",
            "Requirement already satisfied: wheel>=0.26 in /usr/local/lib/python3.6/dist-packages (from tensorflow-gpu==1.14.0) (0.33.6)\n",
            "Requirement already satisfied: numpy<2.0,>=1.14.5 in /usr/local/lib/python3.6/dist-packages (from tensorflow-gpu==1.14.0) (1.18.1)\n",
            "Requirement already satisfied: google-pasta>=0.1.6 in /usr/local/lib/python3.6/dist-packages (from tensorflow-gpu==1.14.0) (0.1.8)\n",
            "Requirement already satisfied: keras-applications>=1.0.6 in /usr/local/lib/python3.6/dist-packages (from tensorflow-gpu==1.14.0) (1.0.8)\n",
            "Requirement already satisfied: markdown>=2.6.8 in /usr/local/lib/python3.6/dist-packages (from tensorboard<1.15.0,>=1.14.0->tensorflow-gpu==1.14.0) (3.1.1)\n",
            "Requirement already satisfied: werkzeug>=0.11.15 in /usr/local/lib/python3.6/dist-packages (from tensorboard<1.15.0,>=1.14.0->tensorflow-gpu==1.14.0) (0.16.0)\n",
            "Requirement already satisfied: setuptools>=41.0.0 in /usr/local/lib/python3.6/dist-packages (from tensorboard<1.15.0,>=1.14.0->tensorflow-gpu==1.14.0) (42.0.2)\n",
            "Requirement already satisfied: h5py in /usr/local/lib/python3.6/dist-packages (from keras-applications>=1.0.6->tensorflow-gpu==1.14.0) (2.8.0)\n"
          ],
          "name": "stdout"
        },
        {
          "output_type": "execute_result",
          "data": {
            "text/plain": [
              "\"from tensorflow.keras.backend import set_session\\nconfig = tf.ConfigProto()\\nconfig.gpu_options.per_process_gpu_memory_fraction = 0.1\\n\\nconfig.gpu_options.visible_device_list = '0'\\n\\nset_session(tf.Session(config=config))\""
            ]
          },
          "metadata": {
            "tags": []
          },
          "execution_count": 1
        }
      ]
    },
    {
      "cell_type": "code",
      "metadata": {
        "id": "gdB899gk7cTP",
        "colab_type": "code",
        "outputId": "4504ea4c-3824-4588-eb73-55b8f5549308",
        "colab": {
          "base_uri": "https://localhost:8080/",
          "height": 34
        }
      },
      "source": [
        "from google.colab import drive\n",
        "drive.mount('/content/gdrive')"
      ],
      "execution_count": 0,
      "outputs": [
        {
          "output_type": "stream",
          "text": [
            "Drive already mounted at /content/gdrive; to attempt to forcibly remount, call drive.mount(\"/content/gdrive\", force_remount=True).\n"
          ],
          "name": "stdout"
        }
      ]
    },
    {
      "cell_type": "code",
      "metadata": {
        "id": "CBsOYTLH8AvA",
        "colab_type": "code",
        "outputId": "2cdc0bef-a3ee-4793-c510-3d730efa2200",
        "colab": {
          "base_uri": "https://localhost:8080/",
          "height": 51
        }
      },
      "source": [
        "!git clone https://github.com/feicccccccc/donkeycar_app.git\n",
        "!git clone https://github.com/feicccccccc/donkeycar.git"
      ],
      "execution_count": 0,
      "outputs": [
        {
          "output_type": "stream",
          "text": [
            "fatal: destination path 'donkeycar_app' already exists and is not an empty directory.\n",
            "fatal: destination path 'donkeycar' already exists and is not an empty directory.\n"
          ],
          "name": "stdout"
        }
      ]
    },
    {
      "cell_type": "code",
      "metadata": {
        "id": "JHuYfOwYEhZi",
        "colab_type": "code",
        "outputId": "14e4486c-8704-4fc7-9959-481e5eb53046",
        "colab": {
          "base_uri": "https://localhost:8080/",
          "height": 136
        }
      },
      "source": [
        "%cd /content/donkeycar\n",
        "!git checkout seq_test\n",
        "%cd /content/donkeycar_app\n",
        "!git checkout rnn_imu_test"
      ],
      "execution_count": 0,
      "outputs": [
        {
          "output_type": "stream",
          "text": [
            "/content/donkeycar\n",
            "Already on 'sequence'\n",
            "Your branch is up to date with 'origin/sequence'.\n",
            "/content/donkeycar_app\n",
            "M\t__pycache__/train.cpython-36.pyc\n",
            "Already on 'rnn_imu_test'\n",
            "Your branch is up to date with 'origin/rnn_imu_test'.\n"
          ],
          "name": "stdout"
        }
      ]
    },
    {
      "cell_type": "code",
      "metadata": {
        "id": "1fAGXcz3FhNz",
        "colab_type": "code",
        "outputId": "f3a93e0f-5835-4be5-c9f3-f5a42ab65bc8",
        "colab": {
          "base_uri": "https://localhost:8080/",
          "height": 581
        }
      },
      "source": [
        "%cd /content/donkeycar/\n",
        "!pip3 install -e .[pc]"
      ],
      "execution_count": 0,
      "outputs": [
        {
          "output_type": "stream",
          "text": [
            "/content/donkeycar\n",
            "Obtaining file:///content/donkeycar\n",
            "Requirement already satisfied: numpy in /usr/local/lib/python3.6/dist-packages (from donkeycar==3.1.1) (1.18.1)\n",
            "Requirement already satisfied: pillow in /usr/local/lib/python3.6/dist-packages (from donkeycar==3.1.1) (6.2.2)\n",
            "Requirement already satisfied: docopt in /usr/local/lib/python3.6/dist-packages (from donkeycar==3.1.1) (0.6.2)\n",
            "Requirement already satisfied: tornado in /usr/local/lib/python3.6/dist-packages (from donkeycar==3.1.1) (4.5.3)\n",
            "Requirement already satisfied: requests in /usr/local/lib/python3.6/dist-packages (from donkeycar==3.1.1) (2.21.0)\n",
            "Requirement already satisfied: h5py in /usr/local/lib/python3.6/dist-packages (from donkeycar==3.1.1) (2.8.0)\n",
            "Requirement already satisfied: moviepy in /usr/local/lib/python3.6/dist-packages (from donkeycar==3.1.1) (0.2.3.5)\n",
            "Requirement already satisfied: pandas in /usr/local/lib/python3.6/dist-packages (from donkeycar==3.1.1) (0.25.3)\n",
            "Requirement already satisfied: PrettyTable in /usr/local/lib/python3.6/dist-packages (from donkeycar==3.1.1) (0.7.2)\n",
            "Requirement already satisfied: paho-mqtt in /usr/local/lib/python3.6/dist-packages (from donkeycar==3.1.1) (1.5.0)\n",
            "Requirement already satisfied: matplotlib in /usr/local/lib/python3.6/dist-packages (from donkeycar==3.1.1) (3.1.2)\n",
            "Requirement already satisfied: certifi>=2017.4.17 in /usr/local/lib/python3.6/dist-packages (from requests->donkeycar==3.1.1) (2019.11.28)\n",
            "Requirement already satisfied: idna<2.9,>=2.5 in /usr/local/lib/python3.6/dist-packages (from requests->donkeycar==3.1.1) (2.8)\n",
            "Requirement already satisfied: chardet<3.1.0,>=3.0.2 in /usr/local/lib/python3.6/dist-packages (from requests->donkeycar==3.1.1) (3.0.4)\n",
            "Requirement already satisfied: urllib3<1.25,>=1.21.1 in /usr/local/lib/python3.6/dist-packages (from requests->donkeycar==3.1.1) (1.24.3)\n",
            "Requirement already satisfied: six in /usr/local/lib/python3.6/dist-packages (from h5py->donkeycar==3.1.1) (1.12.0)\n",
            "Requirement already satisfied: tqdm<5.0,>=4.11.2 in /usr/local/lib/python3.6/dist-packages (from moviepy->donkeycar==3.1.1) (4.28.1)\n",
            "Requirement already satisfied: imageio<3.0,>=2.1.2 in /usr/local/lib/python3.6/dist-packages (from moviepy->donkeycar==3.1.1) (2.4.1)\n",
            "Requirement already satisfied: decorator<5.0,>=4.0.2 in /usr/local/lib/python3.6/dist-packages (from moviepy->donkeycar==3.1.1) (4.4.1)\n",
            "Requirement already satisfied: pytz>=2017.2 in /usr/local/lib/python3.6/dist-packages (from pandas->donkeycar==3.1.1) (2018.9)\n",
            "Requirement already satisfied: python-dateutil>=2.6.1 in /usr/local/lib/python3.6/dist-packages (from pandas->donkeycar==3.1.1) (2.6.1)\n",
            "Requirement already satisfied: cycler>=0.10 in /usr/local/lib/python3.6/dist-packages (from matplotlib->donkeycar==3.1.1) (0.10.0)\n",
            "Requirement already satisfied: pyparsing!=2.0.4,!=2.1.2,!=2.1.6,>=2.0.1 in /usr/local/lib/python3.6/dist-packages (from matplotlib->donkeycar==3.1.1) (2.4.6)\n",
            "Requirement already satisfied: kiwisolver>=1.0.1 in /usr/local/lib/python3.6/dist-packages (from matplotlib->donkeycar==3.1.1) (1.1.0)\n",
            "Requirement already satisfied: setuptools in /usr/local/lib/python3.6/dist-packages (from kiwisolver>=1.0.1->matplotlib->donkeycar==3.1.1) (42.0.2)\n",
            "Installing collected packages: donkeycar\n",
            "  Found existing installation: donkeycar 3.1.1\n",
            "    Can't uninstall 'donkeycar'. No files were found to uninstall.\n",
            "  Running setup.py develop for donkeycar\n",
            "Successfully installed donkeycar\n"
          ],
          "name": "stdout"
        }
      ]
    },
    {
      "cell_type": "code",
      "metadata": {
        "id": "9fFlgnXNGQEI",
        "colab_type": "code",
        "outputId": "084980bb-2a4c-45e1-9bec-7151ff6dcc3e",
        "colab": {
          "base_uri": "https://localhost:8080/",
          "height": 68
        }
      },
      "source": [
        "%cd /content/donkeycar_app/\n",
        "!mkdir data\n",
        "%cd ./data\n",
        "\n",
        "!cp /content/gdrive/My\\ Drive/donkey_car_colab/* ./"
      ],
      "execution_count": 0,
      "outputs": [
        {
          "output_type": "stream",
          "text": [
            "/content/donkeycar_app\n",
            "mkdir: cannot create directory ‘data’: File exists\n",
            "/content/donkeycar_app/data\n"
          ],
          "name": "stdout"
        }
      ]
    },
    {
      "cell_type": "code",
      "metadata": {
        "id": "JtB1jqcWH-KX",
        "colab_type": "code",
        "outputId": "b440d82f-90fe-4658-888a-18b8fa249bc6",
        "colab": {
          "base_uri": "https://localhost:8080/",
          "height": 34
        }
      },
      "source": [
        "!tar -xzf *.gz\n",
        "!ls"
      ],
      "execution_count": 0,
      "outputs": [
        {
          "output_type": "stream",
          "text": [
            "8_brick_2mark  tub.gz\n"
          ],
          "name": "stdout"
        }
      ]
    },
    {
      "cell_type": "code",
      "metadata": {
        "id": "PubyzH4AIW8-",
        "colab_type": "code",
        "outputId": "119e7e69-ac31-457c-9392-eb6d3c72b325",
        "colab": {
          "base_uri": "https://localhost:8080/",
          "height": 1000
        }
      },
      "source": [
        "%cd /content/donkeycar_app/\n",
        "!mkdir ./models\n",
        "!python ./manage.py train --model ./models/rnn_imu.h5 --type rnn_imu\n"
      ],
      "execution_count": 0,
      "outputs": [
        {
          "output_type": "stream",
          "text": [
            "/content/donkeycar_app\n",
            "mkdir: cannot create directory ‘./models’: File exists\n",
            "using donkey v3.1.1 ...\n",
            "loading config file: /content/donkeycar_app/config.py\n",
            "loading personal config over-rides\n",
            "\n",
            "config loaded\n",
            "/usr/local/lib/python3.6/dist-packages/tensorflow/python/framework/dtypes.py:516: FutureWarning: Passing (type, 1) or '1type' as a synonym of type is deprecated; in a future version of numpy, it will be understood as (type, (1,)) / '(1,)type'.\n",
            "  _np_qint8 = np.dtype([(\"qint8\", np.int8, 1)])\n",
            "/usr/local/lib/python3.6/dist-packages/tensorflow/python/framework/dtypes.py:517: FutureWarning: Passing (type, 1) or '1type' as a synonym of type is deprecated; in a future version of numpy, it will be understood as (type, (1,)) / '(1,)type'.\n",
            "  _np_quint8 = np.dtype([(\"quint8\", np.uint8, 1)])\n",
            "/usr/local/lib/python3.6/dist-packages/tensorflow/python/framework/dtypes.py:518: FutureWarning: Passing (type, 1) or '1type' as a synonym of type is deprecated; in a future version of numpy, it will be understood as (type, (1,)) / '(1,)type'.\n",
            "  _np_qint16 = np.dtype([(\"qint16\", np.int16, 1)])\n",
            "/usr/local/lib/python3.6/dist-packages/tensorflow/python/framework/dtypes.py:519: FutureWarning: Passing (type, 1) or '1type' as a synonym of type is deprecated; in a future version of numpy, it will be understood as (type, (1,)) / '(1,)type'.\n",
            "  _np_quint16 = np.dtype([(\"quint16\", np.uint16, 1)])\n",
            "/usr/local/lib/python3.6/dist-packages/tensorflow/python/framework/dtypes.py:520: FutureWarning: Passing (type, 1) or '1type' as a synonym of type is deprecated; in a future version of numpy, it will be understood as (type, (1,)) / '(1,)type'.\n",
            "  _np_qint32 = np.dtype([(\"qint32\", np.int32, 1)])\n",
            "/usr/local/lib/python3.6/dist-packages/tensorflow/python/framework/dtypes.py:525: FutureWarning: Passing (type, 1) or '1type' as a synonym of type is deprecated; in a future version of numpy, it will be understood as (type, (1,)) / '(1,)type'.\n",
            "  np_resource = np.dtype([(\"resource\", np.ubyte, 1)])\n",
            "/usr/local/lib/python3.6/dist-packages/tensorboard/compat/tensorflow_stub/dtypes.py:541: FutureWarning: Passing (type, 1) or '1type' as a synonym of type is deprecated; in a future version of numpy, it will be understood as (type, (1,)) / '(1,)type'.\n",
            "  _np_qint8 = np.dtype([(\"qint8\", np.int8, 1)])\n",
            "/usr/local/lib/python3.6/dist-packages/tensorboard/compat/tensorflow_stub/dtypes.py:542: FutureWarning: Passing (type, 1) or '1type' as a synonym of type is deprecated; in a future version of numpy, it will be understood as (type, (1,)) / '(1,)type'.\n",
            "  _np_quint8 = np.dtype([(\"quint8\", np.uint8, 1)])\n",
            "/usr/local/lib/python3.6/dist-packages/tensorboard/compat/tensorflow_stub/dtypes.py:543: FutureWarning: Passing (type, 1) or '1type' as a synonym of type is deprecated; in a future version of numpy, it will be understood as (type, (1,)) / '(1,)type'.\n",
            "  _np_qint16 = np.dtype([(\"qint16\", np.int16, 1)])\n",
            "/usr/local/lib/python3.6/dist-packages/tensorboard/compat/tensorflow_stub/dtypes.py:544: FutureWarning: Passing (type, 1) or '1type' as a synonym of type is deprecated; in a future version of numpy, it will be understood as (type, (1,)) / '(1,)type'.\n",
            "  _np_quint16 = np.dtype([(\"quint16\", np.uint16, 1)])\n",
            "/usr/local/lib/python3.6/dist-packages/tensorboard/compat/tensorflow_stub/dtypes.py:545: FutureWarning: Passing (type, 1) or '1type' as a synonym of type is deprecated; in a future version of numpy, it will be understood as (type, (1,)) / '(1,)type'.\n",
            "  _np_qint32 = np.dtype([(\"qint32\", np.int32, 1)])\n",
            "/usr/local/lib/python3.6/dist-packages/tensorboard/compat/tensorflow_stub/dtypes.py:550: FutureWarning: Passing (type, 1) or '1type' as a synonym of type is deprecated; in a future version of numpy, it will be understood as (type, (1,)) / '(1,)type'.\n",
            "  np_resource = np.dtype([(\"resource\", np.ubyte, 1)])\n",
            "sequence of images training\n",
            "\"get_model_by_type\" model Type is: rnn_imu\n",
            "WARNING:tensorflow:From /usr/local/lib/python3.6/dist-packages/tensorflow/python/ops/init_ops.py:1251: calling VarianceScaling.__init__ (from tensorflow.python.ops.init_ops) with dtype is deprecated and will be removed in a future version.\n",
            "Instructions for updating:\n",
            "Call initializer instance with the dtype argument instead of passing it to the constructor\n",
            "Model load successfully!\n",
            "Tub: /content/donkeycar_app/data/8_brick_2mark has 17183 records\n",
            "collating records\n",
            "collating sequences\n",
            "collated 17177 sequences of length 7\n",
            "train: 13742, validation: 3435\n",
            "steps_per_epoch 107\n",
            "Model: \"model\"\n",
            "__________________________________________________________________________________________________\n",
            "Layer (type)                    Output Shape         Param #     Connected to                     \n",
            "==================================================================================================\n",
            "img_in (InputLayer)             [(None, 7, 224, 224, 0                                            \n",
            "__________________________________________________________________________________________________\n",
            "time_distributed (TimeDistribut (None, 7, 110, 110,  1824        img_in[0][0]                     \n",
            "__________________________________________________________________________________________________\n",
            "time_distributed_1 (TimeDistrib (None, 7, 53, 53, 32 19232       time_distributed[0][0]           \n",
            "__________________________________________________________________________________________________\n",
            "time_distributed_2 (TimeDistrib (None, 7, 26, 26, 32 9248        time_distributed_1[0][0]         \n",
            "__________________________________________________________________________________________________\n",
            "time_distributed_3 (TimeDistrib (None, 7, 12, 12, 32 9248        time_distributed_2[0][0]         \n",
            "__________________________________________________________________________________________________\n",
            "imu_in (InputLayer)             [(None, 7, 12)]      0                                            \n",
            "__________________________________________________________________________________________________\n",
            "time_distributed_4 (TimeDistrib (None, 7, 4608)      0           time_distributed_3[0][0]         \n",
            "__________________________________________________________________________________________________\n",
            "time_distributed_6 (TimeDistrib (None, 7, 14)        182         imu_in[0][0]                     \n",
            "__________________________________________________________________________________________________\n",
            "time_distributed_5 (TimeDistrib (None, 7, 64)        294976      time_distributed_4[0][0]         \n",
            "__________________________________________________________________________________________________\n",
            "time_distributed_7 (TimeDistrib (None, 7, 14)        210         time_distributed_6[0][0]         \n",
            "__________________________________________________________________________________________________\n",
            "concatenate (Concatenate)       (None, 7, 78)        0           time_distributed_5[0][0]         \n",
            "                                                                 time_distributed_7[0][0]         \n",
            "__________________________________________________________________________________________________\n",
            "lstm (LSTM)                     (None, 7, 128)       105984      concatenate[0][0]                \n",
            "__________________________________________________________________________________________________\n",
            "lstm_1 (LSTM)                   (None, 128)          131584      lstm[0][0]                       \n",
            "__________________________________________________________________________________________________\n",
            "dense_3 (Dense)                 (None, 64)           8256        lstm_1[0][0]                     \n",
            "__________________________________________________________________________________________________\n",
            "dense_4 (Dense)                 (None, 32)           2080        dense_3[0][0]                    \n",
            "__________________________________________________________________________________________________\n",
            "angle_out (Dense)               (None, 15)           495         dense_4[0][0]                    \n",
            "__________________________________________________________________________________________________\n",
            "throttle_out (Dense)            (None, 1)            33          dense_4[0][0]                    \n",
            "==================================================================================================\n",
            "Total params: 583,352\n",
            "Trainable params: 583,352\n",
            "Non-trainable params: 0\n",
            "__________________________________________________________________________________________________\n",
            "None\n",
            "2020-01-24 03:06:05.611147: I tensorflow/core/platform/cpu_feature_guard.cc:142] Your CPU supports instructions that this TensorFlow binary was not compiled to use: AVX2 FMA\n",
            "2020-01-24 03:06:05.619799: I tensorflow/stream_executor/platform/default/dso_loader.cc:42] Successfully opened dynamic library libcuda.so.1\n",
            "2020-01-24 03:06:05.742021: I tensorflow/stream_executor/cuda/cuda_gpu_executor.cc:1005] successful NUMA node read from SysFS had negative value (-1), but there must be at least one NUMA node, so returning NUMA node zero\n",
            "2020-01-24 03:06:05.743213: I tensorflow/compiler/xla/service/service.cc:168] XLA service 0x2a7a300 executing computations on platform CUDA. Devices:\n",
            "2020-01-24 03:06:05.743267: I tensorflow/compiler/xla/service/service.cc:175]   StreamExecutor device (0): Tesla P100-PCIE-16GB, Compute Capability 6.0\n",
            "2020-01-24 03:06:05.746469: I tensorflow/core/platform/profile_utils/cpu_utils.cc:94] CPU Frequency: 2300000000 Hz\n",
            "2020-01-24 03:06:05.747007: I tensorflow/compiler/xla/service/service.cc:168] XLA service 0x2a7abc0 executing computations on platform Host. Devices:\n",
            "2020-01-24 03:06:05.747047: I tensorflow/compiler/xla/service/service.cc:175]   StreamExecutor device (0): <undefined>, <undefined>\n",
            "2020-01-24 03:06:05.747263: I tensorflow/stream_executor/cuda/cuda_gpu_executor.cc:1005] successful NUMA node read from SysFS had negative value (-1), but there must be at least one NUMA node, so returning NUMA node zero\n",
            "2020-01-24 03:06:05.748263: I tensorflow/core/common_runtime/gpu/gpu_device.cc:1640] Found device 0 with properties: \n",
            "name: Tesla P100-PCIE-16GB major: 6 minor: 0 memoryClockRate(GHz): 1.3285\n",
            "pciBusID: 0000:00:04.0\n",
            "2020-01-24 03:06:05.780042: I tensorflow/stream_executor/platform/default/dso_loader.cc:42] Successfully opened dynamic library libcudart.so.10.0\n",
            "2020-01-24 03:06:06.010656: I tensorflow/stream_executor/platform/default/dso_loader.cc:42] Successfully opened dynamic library libcublas.so.10.0\n",
            "2020-01-24 03:06:06.125536: I tensorflow/stream_executor/platform/default/dso_loader.cc:42] Successfully opened dynamic library libcufft.so.10.0\n",
            "2020-01-24 03:06:06.156278: I tensorflow/stream_executor/platform/default/dso_loader.cc:42] Successfully opened dynamic library libcurand.so.10.0\n",
            "2020-01-24 03:06:06.412853: I tensorflow/stream_executor/platform/default/dso_loader.cc:42] Successfully opened dynamic library libcusolver.so.10.0\n",
            "2020-01-24 03:06:06.565320: I tensorflow/stream_executor/platform/default/dso_loader.cc:42] Successfully opened dynamic library libcusparse.so.10.0\n",
            "2020-01-24 03:06:06.576783: I tensorflow/stream_executor/platform/default/dso_loader.cc:42] Successfully opened dynamic library libcudnn.so.7\n",
            "2020-01-24 03:06:06.576944: I tensorflow/stream_executor/cuda/cuda_gpu_executor.cc:1005] successful NUMA node read from SysFS had negative value (-1), but there must be at least one NUMA node, so returning NUMA node zero\n",
            "2020-01-24 03:06:06.578027: I tensorflow/stream_executor/cuda/cuda_gpu_executor.cc:1005] successful NUMA node read from SysFS had negative value (-1), but there must be at least one NUMA node, so returning NUMA node zero\n",
            "2020-01-24 03:06:06.579021: I tensorflow/core/common_runtime/gpu/gpu_device.cc:1763] Adding visible gpu devices: 0\n",
            "2020-01-24 03:06:06.579231: I tensorflow/stream_executor/platform/default/dso_loader.cc:42] Successfully opened dynamic library libcudart.so.10.0\n",
            "2020-01-24 03:06:06.581354: I tensorflow/core/common_runtime/gpu/gpu_device.cc:1181] Device interconnect StreamExecutor with strength 1 edge matrix:\n",
            "2020-01-24 03:06:06.581387: I tensorflow/core/common_runtime/gpu/gpu_device.cc:1187]      0 \n",
            "2020-01-24 03:06:06.581400: I tensorflow/core/common_runtime/gpu/gpu_device.cc:1200] 0:   N \n",
            "2020-01-24 03:06:06.581690: I tensorflow/stream_executor/cuda/cuda_gpu_executor.cc:1005] successful NUMA node read from SysFS had negative value (-1), but there must be at least one NUMA node, so returning NUMA node zero\n",
            "2020-01-24 03:06:06.582685: I tensorflow/stream_executor/cuda/cuda_gpu_executor.cc:1005] successful NUMA node read from SysFS had negative value (-1), but there must be at least one NUMA node, so returning NUMA node zero\n",
            "2020-01-24 03:06:06.583557: W tensorflow/core/common_runtime/gpu/gpu_bfc_allocator.cc:40] Overriding allow_growth setting because the TF_FORCE_GPU_ALLOW_GROWTH environment variable is set. Original config value was 0.\n",
            "2020-01-24 03:06:06.583639: I tensorflow/core/common_runtime/gpu/gpu_device.cc:1326] Created TensorFlow device (/job:localhost/replica:0/task:0/device:GPU:0 with 15216 MB memory) -> physical GPU (device: 0, name: Tesla P100-PCIE-16GB, pci bus id: 0000:00:04.0, compute capability: 6.0)\n",
            "Epoch 1/100\n",
            "WARNING:tensorflow:From /usr/local/lib/python3.6/dist-packages/tensorflow/python/ops/math_grad.py:1250: add_dispatch_support.<locals>.wrapper (from tensorflow.python.ops.array_ops) is deprecated and will be removed in a future version.\n",
            "Instructions for updating:\n",
            "Use tf.where in 2.0, which has the same broadcast rule as np.where\n",
            "2020-01-24 03:06:11.686265: I tensorflow/stream_executor/platform/default/dso_loader.cc:42] Successfully opened dynamic library libcublas.so.10.0\n",
            "2020-01-24 03:06:13.082486: I tensorflow/stream_executor/platform/default/dso_loader.cc:42] Successfully opened dynamic library libcudnn.so.7\n",
            "106/107 [============================>.] - ETA: 0s - loss: 1.1609 - angle_out_loss: 1.8930 - throttle_out_loss: 0.0501\n",
            "Epoch 00001: val_loss improved from inf to 1.10507, saving model to ./models/rnn_imu.h5\n",
            "107/107 [==============================] - 55s 518ms/step - loss: 1.1604 - angle_out_loss: 1.8923 - throttle_out_loss: 0.0501 - val_loss: 1.1051 - val_angle_out_loss: 1.8001 - val_throttle_out_loss: 0.0500\n",
            "Epoch 2/100\n",
            "106/107 [============================>.] - ETA: 0s - loss: 1.0549 - angle_out_loss: 1.7164 - throttle_out_loss: 0.0500\n",
            "Epoch 00002: val_loss improved from 1.10507 to 1.06422, saving model to ./models/rnn_imu.h5\n",
            "107/107 [==============================] - 36s 337ms/step - loss: 1.0555 - angle_out_loss: 1.7174 - throttle_out_loss: 0.0500 - val_loss: 1.0642 - val_angle_out_loss: 1.7320 - val_throttle_out_loss: 0.0500\n",
            "Epoch 3/100\n",
            "106/107 [============================>.] - ETA: 0s - loss: 0.9883 - angle_out_loss: 1.6056 - throttle_out_loss: 0.0500\n",
            "Epoch 00003: val_loss improved from 1.06422 to 0.99354, saving model to ./models/rnn_imu.h5\n",
            "107/107 [==============================] - 36s 334ms/step - loss: 0.9882 - angle_out_loss: 1.6054 - throttle_out_loss: 0.0500 - val_loss: 0.9935 - val_angle_out_loss: 1.6142 - val_throttle_out_loss: 0.0500\n",
            "Epoch 4/100\n",
            "106/107 [============================>.] - ETA: 0s - loss: 0.9392 - angle_out_loss: 1.5237 - throttle_out_loss: 0.0500\n",
            "Epoch 00004: val_loss improved from 0.99354 to 0.95845, saving model to ./models/rnn_imu.h5\n",
            "107/107 [==============================] - 36s 333ms/step - loss: 0.9409 - angle_out_loss: 1.5264 - throttle_out_loss: 0.0500 - val_loss: 0.9585 - val_angle_out_loss: 1.5558 - val_throttle_out_loss: 0.0500\n",
            "Epoch 5/100\n",
            "106/107 [============================>.] - ETA: 0s - loss: 0.9115 - angle_out_loss: 1.4775 - throttle_out_loss: 0.0500\n",
            "Epoch 00005: val_loss improved from 0.95845 to 0.94278, saving model to ./models/rnn_imu.h5\n",
            "107/107 [==============================] - 36s 333ms/step - loss: 0.9109 - angle_out_loss: 1.4766 - throttle_out_loss: 0.0500 - val_loss: 0.9428 - val_angle_out_loss: 1.5296 - val_throttle_out_loss: 0.0500\n",
            "Epoch 6/100\n",
            "106/107 [============================>.] - ETA: 0s - loss: 0.8901 - angle_out_loss: 1.4418 - throttle_out_loss: 0.0500\n",
            "Epoch 00006: val_loss improved from 0.94278 to 0.93107, saving model to ./models/rnn_imu.h5\n",
            "107/107 [==============================] - 36s 334ms/step - loss: 0.8912 - angle_out_loss: 1.4437 - throttle_out_loss: 0.0500 - val_loss: 0.9311 - val_angle_out_loss: 1.5101 - val_throttle_out_loss: 0.0500\n",
            "Epoch 7/100\n",
            "106/107 [============================>.] - ETA: 0s - loss: 0.8662 - angle_out_loss: 1.4020 - throttle_out_loss: 0.0500\n",
            "Epoch 00007: val_loss improved from 0.93107 to 0.90850, saving model to ./models/rnn_imu.h5\n",
            "107/107 [==============================] - 36s 334ms/step - loss: 0.8673 - angle_out_loss: 1.4039 - throttle_out_loss: 0.0500 - val_loss: 0.9085 - val_angle_out_loss: 1.4725 - val_throttle_out_loss: 0.0500\n",
            "Epoch 8/100\n",
            "106/107 [============================>.] - ETA: 0s - loss: 0.8418 - angle_out_loss: 1.3613 - throttle_out_loss: 0.0500\n",
            "Epoch 00008: val_loss did not improve from 0.90850\n",
            "107/107 [==============================] - 35s 332ms/step - loss: 0.8420 - angle_out_loss: 1.3616 - throttle_out_loss: 0.0500 - val_loss: 0.9102 - val_angle_out_loss: 1.4754 - val_throttle_out_loss: 0.0500\n",
            "Epoch 9/100\n",
            "106/107 [============================>.] - ETA: 0s - loss: 0.8142 - angle_out_loss: 1.3153 - throttle_out_loss: 0.0500\n",
            "Epoch 00009: val_loss did not improve from 0.90850\n",
            "107/107 [==============================] - 35s 332ms/step - loss: 0.8135 - angle_out_loss: 1.3141 - throttle_out_loss: 0.0500 - val_loss: 0.9304 - val_angle_out_loss: 1.5090 - val_throttle_out_loss: 0.0500\n",
            "Epoch 10/100\n",
            "106/107 [============================>.] - ETA: 0s - loss: 0.7983 - angle_out_loss: 1.2888 - throttle_out_loss: 0.0500\n",
            "Epoch 00010: val_loss improved from 0.90850 to 0.86947, saving model to ./models/rnn_imu.h5\n",
            "107/107 [==============================] - 36s 335ms/step - loss: 0.7975 - angle_out_loss: 1.2875 - throttle_out_loss: 0.0500 - val_loss: 0.8695 - val_angle_out_loss: 1.4074 - val_throttle_out_loss: 0.0500\n",
            "Epoch 11/100\n",
            "106/107 [============================>.] - ETA: 0s - loss: 0.7654 - angle_out_loss: 1.2340 - throttle_out_loss: 0.0500\n",
            "Epoch 00011: val_loss did not improve from 0.86947\n",
            "107/107 [==============================] - 35s 330ms/step - loss: 0.7664 - angle_out_loss: 1.2357 - throttle_out_loss: 0.0500 - val_loss: 0.9035 - val_angle_out_loss: 1.4642 - val_throttle_out_loss: 0.0500\n",
            "Epoch 12/100\n",
            "106/107 [============================>.] - ETA: 0s - loss: 0.7335 - angle_out_loss: 1.1809 - throttle_out_loss: 0.0500\n",
            "Epoch 00012: val_loss improved from 0.86947 to 0.83945, saving model to ./models/rnn_imu.h5\n",
            "107/107 [==============================] - 36s 333ms/step - loss: 0.7347 - angle_out_loss: 1.1828 - throttle_out_loss: 0.0500 - val_loss: 0.8394 - val_angle_out_loss: 1.3574 - val_throttle_out_loss: 0.0500\n",
            "Epoch 13/100\n",
            "106/107 [============================>.] - ETA: 0s - loss: 0.7056 - angle_out_loss: 1.1344 - throttle_out_loss: 0.0500\n",
            "Epoch 00013: val_loss did not improve from 0.83945\n",
            "107/107 [==============================] - 35s 331ms/step - loss: 0.7049 - angle_out_loss: 1.1331 - throttle_out_loss: 0.0500 - val_loss: 0.8886 - val_angle_out_loss: 1.4393 - val_throttle_out_loss: 0.0500\n",
            "Epoch 14/100\n",
            "106/107 [============================>.] - ETA: 0s - loss: 0.6709 - angle_out_loss: 1.0766 - throttle_out_loss: 0.0500\n",
            "Epoch 00014: val_loss improved from 0.83945 to 0.83527, saving model to ./models/rnn_imu.h5\n",
            "107/107 [==============================] - 36s 334ms/step - loss: 0.6703 - angle_out_loss: 1.0754 - throttle_out_loss: 0.0500 - val_loss: 0.8353 - val_angle_out_loss: 1.3505 - val_throttle_out_loss: 0.0500\n",
            "Epoch 15/100\n",
            "106/107 [============================>.] - ETA: 0s - loss: 0.6406 - angle_out_loss: 1.0260 - throttle_out_loss: 0.0500\n",
            "Epoch 00015: val_loss did not improve from 0.83527\n",
            "107/107 [==============================] - 36s 332ms/step - loss: 0.6413 - angle_out_loss: 1.0271 - throttle_out_loss: 0.0500 - val_loss: 0.8461 - val_angle_out_loss: 1.3685 - val_throttle_out_loss: 0.0500\n",
            "Epoch 16/100\n",
            "106/107 [============================>.] - ETA: 0s - loss: 0.6090 - angle_out_loss: 0.9733 - throttle_out_loss: 0.0500\n",
            "Epoch 00016: val_loss did not improve from 0.83527\n",
            "107/107 [==============================] - 35s 332ms/step - loss: 0.6093 - angle_out_loss: 0.9739 - throttle_out_loss: 0.0500 - val_loss: 0.8595 - val_angle_out_loss: 1.3909 - val_throttle_out_loss: 0.0500\n",
            "Epoch 17/100\n",
            "106/107 [============================>.] - ETA: 0s - loss: 0.5776 - angle_out_loss: 0.9211 - throttle_out_loss: 0.0500\n",
            "Epoch 00017: val_loss did not improve from 0.83527\n",
            "107/107 [==============================] - 35s 332ms/step - loss: 0.5786 - angle_out_loss: 0.9227 - throttle_out_loss: 0.0500 - val_loss: 0.8561 - val_angle_out_loss: 1.3851 - val_throttle_out_loss: 0.0500\n",
            "Epoch 18/100\n",
            "106/107 [============================>.] - ETA: 0s - loss: 0.5467 - angle_out_loss: 0.8695 - throttle_out_loss: 0.0500\n",
            "Epoch 00018: val_loss did not improve from 0.83527\n",
            "107/107 [==============================] - 36s 335ms/step - loss: 0.5470 - angle_out_loss: 0.8700 - throttle_out_loss: 0.0500 - val_loss: 0.8540 - val_angle_out_loss: 1.3817 - val_throttle_out_loss: 0.0500\n",
            "Epoch 19/100\n",
            "106/107 [============================>.] - ETA: 0s - loss: 0.5144 - angle_out_loss: 0.8157 - throttle_out_loss: 0.0500\n",
            "Epoch 00019: val_loss did not improve from 0.83527\n",
            "107/107 [==============================] - 36s 332ms/step - loss: 0.5147 - angle_out_loss: 0.8162 - throttle_out_loss: 0.0500 - val_loss: 0.8561 - val_angle_out_loss: 1.3851 - val_throttle_out_loss: 0.0500\n",
            "Epoch 00019: early stopping\n",
            "Training completed in 0:11:39.\n",
            "\n",
            "\n",
            "----------- Best Eval Loss :0.835275 ---------\n",
            "<Figure size 640x480 with 1 Axes>\n"
          ],
          "name": "stdout"
        }
      ]
    },
    {
      "cell_type": "code",
      "metadata": {
        "id": "KtlOmotc1bpf",
        "colab_type": "code",
        "outputId": "21d0673f-93c8-44cf-a6be-41bbd2de4ce6",
        "colab": {
          "base_uri": "https://localhost:8080/",
          "height": 34
        }
      },
      "source": [
        "import numpy as np\n",
        "print(np.__version__)"
      ],
      "execution_count": 0,
      "outputs": [
        {
          "output_type": "stream",
          "text": [
            "1.14.0\n"
          ],
          "name": "stdout"
        }
      ]
    },
    {
      "cell_type": "code",
      "metadata": {
        "id": "7EmmlX2SVu9i",
        "colab_type": "code",
        "colab": {}
      },
      "source": [
        "a = []\n",
        "while (True):\n",
        "    a.append(1)"
      ],
      "execution_count": 0,
      "outputs": []
    }
  ]
}